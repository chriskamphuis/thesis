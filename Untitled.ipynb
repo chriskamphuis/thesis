{
 "cells": [
  {
   "cell_type": "code",
   "execution_count": 169,
   "id": "05278153-636f-470b-8955-ea6295b0518b",
   "metadata": {},
   "outputs": [
    {
     "name": "stdout",
     "output_type": "stream",
     "text": [
      "Table msmarco_v1_passage_links_rel already exists, skipping the loading...\n"
     ]
    }
   ],
   "source": [
    "from mmead import get_links\n",
    "links = get_links('v1', 'passage', linker='rel')"
   ]
  },
  {
   "cell_type": "code",
   "execution_count": 8,
   "id": "b6b0aacf-cffb-49ba-b6bb-9ea3c54dd069",
   "metadata": {},
   "outputs": [],
   "source": [
    "import json"
   ]
  },
  {
   "cell_type": "code",
   "execution_count": 175,
   "id": "cd49d183-287e-44c0-af60-a215c9fbcf40",
   "metadata": {},
   "outputs": [],
   "source": [
    "i = 1000"
   ]
  },
  {
   "cell_type": "code",
   "execution_count": 359,
   "id": "ddfbcbe2-c061-4b55-9fea-f8afcdb369b6",
   "metadata": {},
   "outputs": [
    {
     "name": "stdout",
     "output_type": "stream",
     "text": [
      "{'passage': [{'entity_id': 24176, 'start_pos': 9, 'end_pos': 22, 'entity': 'Pablo Picasso'}, {'entity_id': 12317, 'start_pos': 76, 'end_pos': 90, 'entity': 'Georges Braque'}, {'entity_id': 26667, 'start_pos': 124, 'end_pos': 131, 'entity': 'Spain'}], 'pid': '3263'}\n"
     ]
    }
   ],
   "source": [
    "while True:\n",
    "    i+=1\n",
    "    output = json.loads(links.load_links_from_docid(i))\n",
    "    if output['passage'] is None:\n",
    "        continue\n",
    "    length = len(output['passage'])\n",
    "    if length == 3:\n",
    "        print(output)\n",
    "        break"
   ]
  },
  {
   "cell_type": "code",
   "execution_count": null,
   "id": "09d0a724-52cb-493e-834d-7c6a08e31905",
   "metadata": {},
   "outputs": [],
   "source": []
  },
  {
   "cell_type": "code",
   "execution_count": 170,
   "id": "d0ddf67a-67aa-4c7e-b3a9-832d47028ce1",
   "metadata": {},
   "outputs": [],
   "source": [
    "output = json.loads(links.load_links_from_docid(2220))"
   ]
  },
  {
   "cell_type": "code",
   "execution_count": 171,
   "id": "9a5ce9df-df93-445b-b7b6-6bb93a645c17",
   "metadata": {},
   "outputs": [
    {
     "data": {
      "text/plain": [
       "{'passage': [{'entity_id': 689,\n",
       "   'start_pos': 147,\n",
       "   'end_pos': 151,\n",
       "   'entity': 'Asia'},\n",
       "  {'entity_id': 9239, 'start_pos': 156, 'end_pos': 162, 'entity': 'Europe'}],\n",
       " 'pid': '2220'}"
      ]
     },
     "execution_count": 171,
     "metadata": {},
     "output_type": "execute_result"
    }
   ],
   "source": [
    "output"
   ]
  },
  {
   "cell_type": "code",
   "execution_count": 174,
   "id": "f19cdb32-915b-4579-bbd8-857ef9bd8475",
   "metadata": {},
   "outputs": [
    {
     "data": {
      "text/plain": [
       "'{\"passage\":[{\"entity_id\":689,\"start_pos\":147,\"end_pos\":151,\"entity\":\"Asia\"},{\"entity_id\":9239,\"start_pos\":156,\"end_pos\":162,\"entity\":\"Europe\"}],\"pid\":\"2220\"}'"
      ]
     },
     "execution_count": 174,
     "metadata": {},
     "output_type": "execute_result"
    }
   ],
   "source": [
    "links.load_links_from_docid(2220)"
   ]
  },
  {
   "cell_type": "code",
   "execution_count": 361,
   "id": "577cb709-96a0-42a1-8991-c7def242d444",
   "metadata": {},
   "outputs": [],
   "source": [
    "import pprint"
   ]
  },
  {
   "cell_type": "code",
   "execution_count": 366,
   "id": "71ea47df-ce78-4d42-a3dd-0079840d7ddb",
   "metadata": {},
   "outputs": [
    {
     "name": "stdout",
     "output_type": "stream",
     "text": [
      "{'passage': [{'entity_id': 24176, 'start_pos': 9, 'end_pos': 22, 'entity': 'Pablo Picasso'}, {'entity_id': 12317, 'start_pos': 76, 'end_pos': 90, 'entity': 'Georges Braque'}, {'entity_id': 26667, 'start_pos': 124, 'end_pos': 131, 'entity': 'Spain'}], 'pid': '3263'}\n"
     ]
    }
   ],
   "source": [
    "print(output)"
   ]
  },
  {
   "cell_type": "code",
   "execution_count": 367,
   "id": "277a19f4-081b-432f-ab6e-350fb7dd16a9",
   "metadata": {},
   "outputs": [],
   "source": [
    "a = \"\"\"{\"passage\": [{\"entity_id': 24176, 'start_pos': 9, 'end_pos': 22, 'entity': 'Pablo Picasso'}, {'entity_id': 12317, 'start_pos': 76, 'end_pos': 90, 'entity': 'Georges Braque'}, {'entity_id': 26667, 'start_pos': 124, 'end_pos': 131, 'entity': 'Spain'}], 'pid': '3263'}\"\"\".replace(\"'\", '\"')"
   ]
  },
  {
   "cell_type": "code",
   "execution_count": 368,
   "id": "bacc064d-30e0-4229-951a-65b51a9eff19",
   "metadata": {},
   "outputs": [
    {
     "data": {
      "text/plain": [
       "'{\"passage\": [{\"entity_id\": 24176, \"start_pos\": 9, \"end_pos\": 22, \"entity\": \"Pablo Picasso\"}, {\"entity_id\": 12317, \"start_pos\": 76, \"end_pos\": 90, \"entity\": \"Georges Braque\"}, {\"entity_id\": 26667, \"start_pos\": 124, \"end_pos\": 131, \"entity\": \"Spain\"}], \"pid\": \"3263\"}'"
      ]
     },
     "execution_count": 368,
     "metadata": {},
     "output_type": "execute_result"
    }
   ],
   "source": [
    "a"
   ]
  },
  {
   "cell_type": "code",
   "execution_count": null,
   "id": "dea6db3e-7b97-48a0-930e-d8920ba95f6a",
   "metadata": {},
   "outputs": [],
   "source": []
  }
 ],
 "metadata": {
  "kernelspec": {
   "display_name": "Python 3 (ipykernel)",
   "language": "python",
   "name": "python3"
  },
  "language_info": {
   "codemirror_mode": {
    "name": "ipython",
    "version": 3
   },
   "file_extension": ".py",
   "mimetype": "text/x-python",
   "name": "python",
   "nbconvert_exporter": "python",
   "pygments_lexer": "ipython3",
   "version": "3.10.18"
  }
 },
 "nbformat": 4,
 "nbformat_minor": 5
}
